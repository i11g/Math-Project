{
 "cells": [
  {
   "cell_type": "code",
   "execution_count": null,
   "id": "ac06e54e-65bb-48bf-800d-0ac633afcf6f",
   "metadata": {},
   "outputs": [],
   "source": [
    "def solve_knapsack_ga(weights, values, capacity,\n",
    "                               population_size=200,\n",
    "                               num_generations=1000,\n",
    "                               mutation_rate=0.01,\n",
    "                               tournament_size=5,\n",
    "                               elitism=True,\n",
    "                               penalty_coef=0.9):\n",
    "    n = len(weights)\n",
    "\n",
    "    # --- FITNESS WITH SOFT PENALTY ---\n",
    "    def fitness(ind):\n",
    "        w = (weights * ind).sum()\n",
    "        v = (values  * ind).sum()\n",
    "        if w <= capacity:\n",
    "            return v\n",
    "        else:\n",
    "            # Penalize overweight\n",
    "            return v - penalty_coef * (w - capacity)\n",
    "    def create():\n",
    "        return np.random.randint(0, 2, size=n)\n",
    "    \n",
    "    def tour(pop, fits):\n",
    "        competitors = random.sample(range(len(pop)), tournament_size)\n",
    "        return pop[max(competitors, key=lambda i:fits[i])].copy()\n",
    "    \n",
    "    def crossover(p1, p2):\n",
    "        pt = random.randint(1, n-1)\n",
    "        return np.concatenate([p1[:pt], p2[pt:]]), np.concatenate([p2[:pt], p1[pt:]])\n",
    "     def mutate(ind):\n",
    "        for i in range(n):\n",
    "            if random.random() < mutation_rate:\n",
    "                ind[i] ^= 1\n",
    "        return ind\n",
    "    pop = [create() for _ in range(population_size)]\n",
    "    best_val, best_ind = 0, pop[0].copy()\n",
    "    for _ in range(num_generations):\n",
    "        fits = [fitness(ind) for ind in pop]\n",
    "        idx = int(np.argmax(fits))\n",
    "        if fits[idx] > best_val:\n",
    "            best_val, best_ind = fits[idx], pop[idx].copy()\n",
    "            new_pop = []\n",
    "        if elitism:\n",
    "            new_pop.append(best_ind.copy())\n",
    "        while len(new_pop) < population_size:\n",
    "            p1, p2 = tour(pop, fits), tour(pop, fits)\n",
    "            c1, c2 = crossover(p1, p2)\n",
    "            new_pop.extend([mutate(c1), mutate(c2)])\n",
    "        pop = new_pop[:population_size]\n",
    "    return best_val, best_ind"
   ]
  }
 ],
 "metadata": {
  "kernelspec": {
   "display_name": "Python (myenv)",
   "language": "python",
   "name": "myenv"
  },
  "language_info": {
   "codemirror_mode": {
    "name": "ipython",
    "version": 3
   },
   "file_extension": ".py",
   "mimetype": "text/x-python",
   "name": "python",
   "nbconvert_exporter": "python",
   "pygments_lexer": "ipython3",
   "version": "3.12.3"
  }
 },
 "nbformat": 4,
 "nbformat_minor": 5
}
