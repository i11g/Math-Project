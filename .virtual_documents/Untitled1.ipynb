import time
import random
import numpy as np
import matplotlib.pyplot as plt
# from deap import base, creator, tools, algorithms


# Dynamic Programming solution for the 0/1 Knapsack Problem
def solve_knapsack_dp(weights, values, capacity):
    """
    Solve the knapsack problem using dynamic programming.
    
    Args:
        weights: List of item weights
        values: List of item values
        capacity: Knapsack capacity
        
    Returns:
        tuple: (maximum value, selected items, execution time)
    """
    start_time = time.time()
    
    n = len(weights)
    # Initialize DP table with 0s
    dp = [[0 for _ in range(capacity + 1)] for _ in range(n + 1)]
    
    # Build table dp[][] in bottom-up manner
    for i in range(1, n + 1):
        for w in range(1, capacity + 1):
            if weights[i-1] <= w:
                dp[i][w] = max(values[i-1] + dp[i-1][w-weights[i-1]], dp[i-1][w])
            else:
                dp[i][w] = dp[i-1][w]
    
    # Backtracking to find the selected items
    selected_items = []
    w = capacity
    for i in range(n, 0, -1):
        if dp[i][w] != dp[i-1][w]:
            selected_items.append(i-1)
            w -= weights[i-1]
    
    selected_items.reverse()  # Reverse to get items in original order
    
    execution_time = time.time() - start_time
    return dp[n][capacity], selected_items, execution_time


# Genetic Algorithm solution for the 0/1 Knapsack Problem
def solve_knapsack_ga(weights, values, capacity, pop_size=100, max_gen=100, cx_prob=0.7, mut_prob=0.2):
    """
    Solve the knapsack problem using genetic algorithm.
    
    Args:
        weights: List of item weights
        values: List of item values
        capacity: Knapsack capacity
        pop_size: Population size
        max_gen: Maximum number of generations
        cx_prob: Crossover probability
        mut_prob: Mutation probability
        
    Returns:
        tuple: (maximum value, selected items, execution time)
    """
    start_time = time.time()
    
    # Create the types for the GA
    creator.create("FitnessMax", base.Fitness, weights=(1.0,))
    creator.create("Individual", list, fitness=creator.FitnessMax)
    
    toolbox = base.Toolbox()
    
    # Attribute generator
    toolbox.register("attr_bool", random.randint, 0, 1)
    
    # Structure initializers
    toolbox.register("individual", tools.initRepeat, creator.Individual, toolbox.attr_bool, len(weights))
    toolbox.register("population", tools.initRepeat, list, toolbox.individual)
    
    # Define the fitness function
    def evalKnapsack(individual):
        total_value = 0
        total_weight = 0
        for i, included in enumerate(individual):
            if included:
                total_value += values[i]
                total_weight += weights[i]
                
        # Apply penalty for exceeding capacity
        if total_weight > capacity:
            return (0,)  # Return 0 fitness if capacity is exceeded
        return (total_value,)
    
    # Register genetic operators
    toolbox.register("evaluate", evalKnapsack)
    toolbox.register("mate", tools.cxTwoPoint)
    toolbox.register("mutate", tools.mutFlipBit, indpb=0.05)
    toolbox.register("select", tools.selTournament, tournsize=3)
    
    # Create the initial population
    pop = toolbox.population(n=pop_size)
    
    # Keep track of the best solution found
    hof = tools.HallOfFame(1)
    
    # Perform the evolution
    algorithms.eaSimple(pop, toolbox, cxpb=cx_prob, mutpb=mut_prob, ngen=max_gen, 
                       halloffame=hof, verbose=False)
    
    # Get the best solution
    best_solution = hof[0]
    selected_items = [i for i, included in enumerate(best_solution) if included]
    
    # Calculate the value of the best solution
    total_value = sum(values[i] for i in selected_items)
    
    execution_time = time.time() - start_time
    
    # Clean up creator to avoid warnings in future runs
    del creator.FitnessMax
    del creator.Individual
    
    return total_value, selected_items, execution_time


# Generate random knapsack instances
def generate_knapsack_instance(n, max_weight=100, max_value=100, capacity_ratio=0.5):
    """
    Generate a random knapsack instance.
    
    Args:
        n: Number of items
        max_weight: Maximum weight of an item
        max_value: Maximum value of an item
        capacity_ratio: Ratio of capacity to total weight
        
    Returns:
        tuple: (weights, values, capacity)
    """
    weights = [random.randint(1, max_weight) for _ in range(n)]
    values = [random.randint(1, max_value) for _ in range(n)]
    capacity = int(sum(weights) * capacity_ratio)
    
    return weights, values, capacity

import time
import random
import numpy as np
import matplotlib.pyplot as plt
import pandas as pd
from def knapsack_algorithms import solve_knapsack_dp, solve_knapsack_ga, generate_knapsack_instance


def run_comparative_experiment(item_sizes, trials=5, capacity_ratio=0.5, max_weight=100, max_value=100,
                              ga_pop_size=100, ga_max_gen=100, ga_cx_prob=0.7, ga_mut_prob=0.2,
                              dp_timeout=300):  # 5 minutes timeout for DP
    """
    Run experiments comparing DP and GA for different problem sizes.
    
    Args:
        item_sizes: List of number of items to test
        trials: Number of trials for each size
        capacity_ratio: Ratio of capacity to total weight
        max_weight: Maximum weight of an item
        max_value: Maximum value of an item
        ga_pop_size: Population size for GA
        ga_max_gen: Maximum number of generations for GA
        ga_cx_prob: Crossover probability for GA
        ga_mut_prob: Mutation probability for GA
        dp_timeout: Timeout in seconds for DP algorithm
        
    Returns:
        DataFrame with experiment results
    """
    results = []
    
    for size in item_sizes:
        print(f"Running experiments for {size} items...")
        
        for trial in range(trials):
            # Generate a random instance
            weights, values, capacity = generate_knapsack_instance(
                size, max_weight, max_value, capacity_ratio)
            
            # Run DP with timeout
            dp_value, dp_items, dp_time = None, None, None
            dp_error = False
            
            # Only run DP for smaller problem sizes to avoid excessive runtime
            if size <= 1000:  # Adjust this threshold based on your computer's capabilities
                try:
                    start_time = time.time()
                    dp_value, dp_items, dp_time = solve_knapsack_dp(weights, values, capacity)
                    
                    # Check if DP took too long
                    if time.time() - start_time > dp_timeout:
                        dp_error = True
                        print(f"  DP timed out for size {size}, trial {trial+1}")
                except Exception as e:
                    dp_error = True
                    print(f"  Error in DP for size {size}, trial {trial+1}: {e}")
            else:
                dp_error = True
                print(f"  Skipping DP for size {size} (too large)")
            
            # Run GA
            ga_value, ga_items, ga_time = solve_knapsack_ga(
                weights, values, capacity, ga_pop_size, ga_max_gen, ga_cx_prob, ga_mut_prob)
            
            # Calculate error if DP solution exists
            error_percentage = None
            if not dp_error and dp_value > 0:
                error_percentage = 100 * (1 - ga_value / dp_value)
            
            # Store results
            results.append({
                'size': size,
                'trial': trial + 1,
                'capacity': capacity,
                'dp_value': dp_value,
                'dp_time': dp_time,
                'ga_value': ga_value,
                'ga_time': ga_time,
                'error_percentage': error_percentage,
                'dp_error': dp_error
            })
            
            # print(f"  Trial {trial+1}: DP time={dp_time:.4f}s, GA time={ga_time:.4f}s, Error={error_percentage:.2f}% if error_percentage else 'N/A'}")
    
    return pd.DataFrame(results)


def plot_results(results):
    """
    Create plots from experiment results.
    
    Args:
        results: DataFrame with experiment results
    """
    # Group by size and calculate averages
    size_summary = results.groupby('size').agg({
        'dp_time': ['mean', 'std'],
        'ga_time': ['mean', 'std'],
        'error_percentage': ['mean', 'std']
    }).reset_index()
    
    # Flatten the column names
    size_summary.columns = ['_'.join(col).strip('_') for col in size_summary.columns.values]
    
    # Create a figure with subplots
    fig, (ax1, ax2) = plt.subplots(1, 2, figsize=(15, 6))
    
    # Plot 1: Runtime comparison
    ax1.errorbar(size_summary['size'], size_summary['dp_time_mean'], 
                yerr=size_summary['dp_time_std'], marker='o', label='DP')
    ax1.errorbar(size_summary['size'], size_summary['ga_time_mean'], 
                yerr=size_summary['ga_time_std'], marker='s', label='GA')
    
    ax1.set_xlabel('Number of Items')
    ax1.set_ylabel('Runtime (seconds)')
    ax1.set_title('Runtime Comparison: DP vs GA')
    ax1.legend()
    ax1.grid(True)
    
    # Plot 2: Error percentage
    valid_error = size_summary[~size_summary['error_percentage_mean'].isna()]
    if not valid_error.empty:
        ax2.errorbar(valid_error['size'], valid_error['error_percentage_mean'], 
                    yerr=valid_error['error_percentage_std'], marker='o', color='green')
        ax2.set_xlabel('Number of Items')
        ax2.set_ylabel('Error Percentage (%)')
        ax2.set_title('GA Solution Quality (% below optimal)')
        ax2.grid(True)
    else:
        ax2.text(0.5, 0.5, 'No error data available', 
                horizontalalignment='center', verticalalignment='center')
    
    plt.tight_layout()
    plt.savefig('runtime_comparison.png', dpi=300)
    plt.show()
    
    # Second figure: Detailed runtime comparison with logarithmic scale
    plt.figure(figsize=(10, 6))
    plt.errorbar(size_summary['size'], size_summary['dp_time_mean'], 
               yerr=size_summary['dp_time_std'], marker='o', label='DP')
    plt.errorbar(size_summary['size'], size_summary['ga_time_mean'], 
               yerr=size_summary['ga_time_std'], marker='s', label='GA')
    
    plt.xlabel('Number of Items')
    plt.ylabel('Runtime (seconds)')
    plt.title('Runtime Comparison: DP vs GA (Log Scale)')
    plt.legend()
    plt.grid(True)
    plt.yscale('log')
    plt.savefig('runtime_comparison_log.png', dpi=300)
    plt.show()


def run_ga_parameter_sensitivity(weights, values, capacity, pop_sizes=[50, 100, 200], 
                               max_gens=[50, 100, 200], mut_probs=[0.05, 0.1, 0.2]):
    """
    Run experiments to test GA parameter sensitivity.
    
    Args:
        weights: List of item weights
        values: List of item values
        capacity: Knapsack capacity
        pop_sizes: List of population sizes to test
        max_gens: List of maximum generations to test
        mut_probs: List of mutation probabilities to test
        
    Returns:
        DataFrame with sensitivity results
    """
    results = []
    
    # Get optimal solution using DP (if feasible)
    try:
        optimal_value, _, _ = solve_knapsack_dp(weights, values, capacity)
    except:
        optimal_value = None
    
    # Test population size
    print("Testing population size sensitivity...")
    for pop_size in pop_sizes:
        ga_value, _, ga_time = solve_knapsack_ga(
            weights, values, capacity, pop_size=pop_size, max_gen=100)
        
        error = None
        if optimal_value:
            error = 100 * (1 - ga_value / optimal_value)
        
        results.append({
            'parameter': 'population_size',
            'value': pop_size,
            'ga_value': ga_value,
            'ga_time': ga_time,
            'error_percentage': error
        })
        # print(f"  Pop Size {pop_size}: Time={ga_time:.4f}s, Error={error:.2f}% if error else 'N/A'}")
    
    # Test max generations
    print("Testing max generations sensitivity...")
    for max_gen in max_gens:
        ga_value, _, ga_time = solve_knapsack_ga(
            weights, values, capacity, pop_size=100, max_gen=max_gen)
        
        error = None
        if optimal_value:
            error = 100 * (1 - ga_value / optimal_value)
        
        results.append({
            'parameter': 'max_generations',
            'value': max_gen,
            'ga_value': ga_value,
            'ga_time': ga_time,
            'error_percentage': error
        })
        # print(f"  Max Gen {max_gen}: Time={ga_time:.4f}s, Error={error:.2f}% if error else 'N/A'}")
    
    # Test mutation probability
    print("Testing mutation probability sensitivity...")
    for mut_prob in mut_probs:
        ga_value, _, ga_time = solve_knapsack_ga(
            weights, values, capacity, pop_size=100, max_gen=100, mut_prob=mut_prob)
        
        error = None
        if optimal_value:
            error = 100 * (1 - ga_value / optimal_value)
        
        results.append({
            'parameter': 'mutation_probability',
            'value': mut_prob,
            'ga_value': ga_value,
            'ga_time': ga_time,
            'error_percentage': error
        })
        # print(f"  Mut Prob {mut_prob}: Time={ga_time:.4f}s, Error={error:.2f}% if error else 'N/A'}")
    
    return pd.DataFrame(results)


def plot_sensitivity_results(sensitivity_results):
    """
    Create plots for parameter sensitivity analysis.
    
    Args:
        sensitivity_results: DataFrame with sensitivity results
    """
    # Set up the figure
    fig, axes = plt.subplots(3, 2, figsize=(15, 15))
    
    parameters = ['population_size', 'max_generations', 'mutation_probability']
    titles = ['Population Size', 'Maximum Generations', 'Mutation Probability']
    
    for i, param in enumerate(parameters):
        param_data = sensitivity_results[sensitivity_results['parameter'] == param]
        
        # Runtime plot
        axes[i, 0].plot(param_data['value'], param_data['ga_time'], marker='o')
        axes[i, 0].set_xlabel(titles[i])
        axes[i, 0].set_ylabel('Runtime (seconds)')
        axes[i, 0].set_title(f'Runtime vs {titles[i]}')
        axes[i, 0].grid(True)
        
        # Error plot
        if not param_data['error_percentage'].isna().all():
            axes[i, 1].plot(param_data['value'], param_data['error_percentage'], marker='o', color='green')
            axes[i, 1].set_xlabel(titles[i])
            axes[i, 1].set_ylabel('Error Percentage (%)')
            axes[i, 1].set_title(f'Solution Quality vs {titles[i]}')
            axes[i, 1].grid(True)
        else:
            axes[i, 1].text(0.5, 0.5, 'No error data available', 
                          horizontalalignment='center', verticalalignment='center')
    
    plt.tight_layout()
    plt.savefig('parameter_sensitivity.png', dpi=300)
    plt.show()
import time
import pandas as pd
from knapsack_algorithms import solve_knapsack_dp, solve_knapsack_ga, generate_knapsack_instance
from experiment_setup import run_comparative_experiment, plot_results, run_ga_parameter_sensitivity, plot_sensitivity_results

def main():
    """
    Main function to run all experiments.
    """
    print("Starting Knapsack Problem: DP vs GA Comparison")
    print("=" * 50)
    
    # Part 1: Compare DP and GA across different problem sizes
    print("\nRunning comparison across different problem sizes...")
    # Define the problem sizes to test
    # Start small and increase - adjust based on your computer's performance
    small_sizes = [10, 25, 50, 100]
    medium_sizes = [200, 300, 400]
    large_sizes = [500, 750, 1000]
    
    # For initial testing, use fewer sizes
    item_sizes = small_sizes + medium_sizes + large_sizes
    
    # Run comparison experiment (adjust trials for more robust results)
    results = run_comparative_experiment(
        item_sizes=item_sizes,
        trials=3,  # Number of trials for each size
        capacity_ratio=0.5,  # Capacity = 50% of total weight
        ga_pop_size=100,
        ga_max_gen=100,
        dp_timeout=300  # 5 minute timeout for DP
    )
    
    # Save results to CSV
    results.to_csv('comparison_results.csv', index=False)
    print("Comparison results saved to 'comparison_results.csv'")
    
    # Plot the results
    print("Generating comparison plots...")
    plot_results(results)
    
    # Part 2: GA Parameter Sensitivity Analysis
    print("\nRunning GA parameter sensitivity analysis...")
    
    # Generate a medium-sized instance for sensitivity analysis
    weights, values, capacity = generate_knapsack_instance(100, capacity_ratio=0.5)
    
    # Run parameter sensitivity analysis
    sensitivity_results = run_ga_parameter_sensitivity(
        weights=weights,
        values=values,
        capacity=capacity,
        pop_sizes=[50, 100, 200, 300],
        max_gens=[50, 100, 150, 200],
        mut_probs=[0.05, 0.1, 0.2, 0.3]
    )
    
    # Save sensitivity results to CSV
    sensitivity_results.to_csv('sensitivity_results.csv', index=False)
    print("Sensitivity results saved to 'sensitivity_results.csv'")
    
    # Plot sensitivity results
    print("Generating sensitivity plots...")
    plot_sensitivity_results(sensitivity_results)
    
    print("\nAll experiments completed successfully!")


if __name__ == "__main__":
    main()



