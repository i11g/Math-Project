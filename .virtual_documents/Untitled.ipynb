

















# GA Quality Ratio over Mutation Rate and n
pop_sizes = [50, 100, 200, 500]
mut_rates = [0.001, 0.01, 0.05, 0.1]
heat_results = []
# fix one instance
w2, v2, C2 = generate_knapsack_instance(300)
dp_val2, _, _ = run_dp(w2, v2, C2)
for pop in pop_sizes:
    for mut in mut_rates:
        params = {'population_size': pop, 'num_generations': 200,
                  'mutation_rate': mut, 'tournament_size': 3, 'elitism': True}
        ga_vals = [run_ga(w2, v2, C2, params)[0] for _ in range(3)]
        quality = np.mean(ga_vals) / dp_val2
        heat_results.append({'pop': pop, 'mut': mut, 'quality_ratio': quality})
df_heat = pd.DataFrame(heat_results)
pivot = df_heat.pivot(index='mut', columns='pop', values='quality_ratio').sort_index()
plt.figure(figsize=(8, 6))
plt.imshow(pivot.values, aspect='auto', origin='lower')
plt.xticks(range(len(pop_sizes)), pop_sizes)
plt.yticks(range(len(mut_rates)), mut_rates)
plt.xlabel('Population Size')
plt.ylabel('Mutation Rate')
plt.title('Heatmap: GA Quality Ratio')
plt.colorbar(label='Quality Ratio')
plt.savefig("GA Quality Ration over mutation Rate.png" )
plt.tight_layout()
plt.show()


**Function:** `benchmark_with_quality(ns, trials=5)`

Run both the exact Dynamic Programming (DP) solver and the Genetic Algorithm (GA) solver on knapsack instances of increasing size, then compare speed and solution quality.
#### Procedure
1. **Input**
   - A list of item counts:  
     `ns = [10, 20, 50, 100, …]`
   - Number of trials per \(n\): `trials` (default 5)
2. **For each** \(n \in ns\):
   1. **Repeat** `trials` times:
      - **Generate** a random knapsack instance with \(n\) items.
      - **Solve** with DP:
        - Record `(dp_value, dp_time)`.
      - **Solve** with GA:
        - Record `(ga_value, ga_time)`.
   2. **Aggregate** across trials:
      - \(\displaystyle\overline{dp\_time}, \ \overline{ga\_time}\)
      - \(\displaystyle\overline{dp\_value}, \ \overline{ga\_value}\)
      - **Quality ratio:**  
        \[
          \text{quality\_ratio}
          = \frac{\overline{ga\_value}}{\overline{dp\_value}}
        \]
   3. **Append** one row to `df_quality` with columns:
      ```
      n | avg_dp_time | avg_ga_time | avg_dp_value | avg_ga_value | quality_ratio 
       ```
