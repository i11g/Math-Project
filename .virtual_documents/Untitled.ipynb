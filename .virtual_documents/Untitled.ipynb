import numpy as np
import pandas as pd
import random
import time
from IPython.display import display

def generate_knapsack_instance(n, weight_range=(1,100), value_range=(1,100), capacity_factor=0.5):
    weights = np.random.randint(weight_range[0], weight_range[1]+1, size=n)
    values  = np.random.randint(value_range[0], value_range[1]+1, size=n)
    capacity = int(weights.sum() * capacity_factor)
    return weights, values, capacity

def solve_knapsack_dp(weights, values, capacity):
    n = len(weights)
    dp = np.zeros((n+1, capacity+1), dtype=int)
    for i in range(1, n+1):
        w_i, v_i = weights[i-1], values[i-1]
        for w in range(capacity+1):
            if w_i <= w:
                dp[i, w] = max(v_i + dp[i-1, w-w_i], dp[i-1, w])
            else:
                dp[i, w] = dp[i-1, w]
    sel = np.zeros(n, dtype=bool)
    w = capacity
    for i in range(n, 0, -1):
        if dp[i, w] != dp[i-1, w]:
            sel[i-1] = True
            w -= weights[i-1]
    return dp[n, capacity], sel

def run_dp(weights, values, capacity):
    t0 = time.perf_counter()
    val, sel = solve_knapsack_dp(weights, values, capacity)
    return val, sel, time.perf_counter() - t0

def solve_knapsack_ga(weights, values, capacity,
                      population_size=100, num_generations=200,
                      mutation_rate=0.01, tournament_size=3,
                      elitism=True):
    n = len(weights)
    def fitness(ind):
        total_w = int((weights * ind).sum())
        return int((values * ind).sum()) if total_w <= capacity else 0
    def create():
        return np.random.randint(0,2,size=n)
    def tour(pop, fits):
        competitors = random.sample(range(len(pop)), tournament_size)
        return pop[max(competitors, key=lambda i:fits[i])].copy()
    def crossover(p1, p2):
        pt = random.randint(1, n-1)
        return np.concatenate([p1[:pt], p2[pt:]]), np.concatenate([p2[:pt], p1[pt:]])
    def mutate(ind):
        for i in range(n):
            if random.random() < mutation_rate:
                ind[i] ^= 1
        return ind

    pop = [create() for _ in range(population_size)]
    best_val, best_ind = 0, pop[0].copy()
    for _ in range(num_generations):
        fits = [fitness(ind) for ind in pop]
        idx = int(np.argmax(fits))
        if fits[idx] > best_val:
            best_val, best_ind = fits[idx], pop[idx].copy()
        new_pop = []
        if elitism:
            new_pop.append(best_ind.copy())
        while len(new_pop) < population_size:
            p1, p2 = tour(pop, fits), tour(pop, fits)
            c1, c2 = crossover(p1, p2)
            new_pop.extend([mutate(c1), mutate(c2)])
        pop = new_pop[:population_size]
    return best_val, best_ind

def run_ga(weights, values, capacity, params):
    t0 = time.perf_counter()
    val, sel = solve_knapsack_ga(
        weights, values, capacity,
        population_size=params['population_size'],
        num_generations=params['num_generations'],
        mutation_rate=params['mutation_rate'],
        tournament_size=params['tournament_size'],
        elitism=params['elitism']
    )
    return val, sel, time.perf_counter() - t0

# Benchmark function with quality measure
def benchmark_with_quality(ns, repeats=5, ga_params=None):
    if ga_params is None:
        ga_params = {
            'population_size': 100,
            'num_generations': 200,
            'mutation_rate': 0.01,
            'tournament_size': 3,
            'elitism': True
        }
    results = []
    for n in ns:
        dp_times, ga_times = [], []
        dp_vals, ga_vals = [], []
        for _ in range(repeats):
            w, v, C = generate_knapsack_instance(n)
            val_dp, _, t_dp = run_dp(w, v, C)
            val_ga, _, t_ga = run_ga(w, v, C, ga_params)
            dp_times.append(t_dp)
            ga_times.append(t_ga)
            dp_vals.append(val_dp)
            ga_vals.append(val_ga)
        mean_dp_val = np.mean(dp_vals)
        mean_ga_val = np.mean(ga_vals)
        results.append({
            'n_items': n,
            'dp_time_mean': np.mean(dp_times),
            'ga_time_mean': np.mean(ga_times),
            'dp_value_mean': mean_dp_val,
            'ga_value_mean': mean_ga_val,
            'quality_ratio': mean_ga_val / mean_dp_val
        })
    return pd.DataFrame(results)

# Define and run
ns = [50, 100, 200, 300, 400, 500]
ga_params = {
    'population_size': 100,
    'num_generations': 200,
    'mutation_rate': 0.01,
    'tournament_size': 3,
    'elitism': True
}
df_quality = benchmark_with_quality(ns, repeats=5, ga_params=ga_params)

# Display results
display(df_quality)

def benchmark_varying_capacity(ns, capacity_factors, repeats=5, ga_params=None):
    if ga_params is None: ga_params = {
            'population_size': 100,
            'num_generations': 200,
            'mutation_rate': 0.01,
            'tournament_size': 3,
            'elitism': True }  # same as before
    records = []
    for n in ns:
        for cf in capacity_factors:
            dp_times, ga_times = [], []
            dp_vals, ga_vals = [], []
            for _ in range(repeats):
                w, v, C = generate_knapsack_instance(n, capacity_factor=cf)
                val_dp, _, t_dp = run_dp(w, v, C)
                val_ga, _, t_ga = run_ga(w, v, C, ga_params)
                dp_times.append(t_dp); dp_vals.append(val_dp)
                ga_times.append(t_ga); ga_vals.append(val_ga)
            records.append({
                'n_items': n,
                'capacity_factor': cf,
                'dp_time_mean': np.mean(dp_times),
                'ga_time_mean': np.mean(ga_times),
                'dp_value_mean': np.mean(dp_vals),
                'ga_value_mean': np.mean(ga_vals),
                'quality_ratio': np.mean(ga_vals) / np.mean(dp_vals)
            })
    return pd.DataFrame(records)

# Example usage:
ns = [50, 100, 200, 300, 400, 500]
cfs = [0.2, 0.4, 0.6, 0.8]
df_cap = benchmark_varying_capacity(ns, cfs, repeats=5, ga_params=ga_params)
display(df_cap) 
