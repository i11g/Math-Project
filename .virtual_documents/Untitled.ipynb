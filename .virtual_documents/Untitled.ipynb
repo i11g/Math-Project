




















# GA Quality Ratio over Mutation Rate and n
pop_sizes = [50, 100, 200, 500]
mut_rates = [0.001, 0.01, 0.05, 0.1]
heat_results = []
# fix one instance
w2, v2, C2 = generate_knapsack_instance(300)
dp_val2, _, _ = run_dp(w2, v2, C2)
for pop in pop_sizes:
    for mut in mut_rates:
        params = {'population_size': pop, 'num_generations': 200,
                  'mutation_rate': mut, 'tournament_size': 3, 'elitism': True}
        ga_vals = [run_ga(w2, v2, C2, params)[0] for _ in range(3)]
        quality = np.mean(ga_vals) / dp_val2
        heat_results.append({'pop': pop, 'mut': mut, 'quality_ratio': quality})
df_heat = pd.DataFrame(heat_results)
pivot = df_heat.pivot(index='mut', columns='pop', values='quality_ratio').sort_index()
plt.figure(figsize=(8, 6))
plt.imshow(pivot.values, aspect='auto', origin='lower')
plt.xticks(range(len(pop_sizes)), pop_sizes)
plt.yticks(range(len(mut_rates)), mut_rates)
plt.xlabel('Population Size')
plt.ylabel('Mutation Rate')
plt.title('Heatmap: GA Quality Ratio')
plt.colorbar(label='Quality Ratio')
plt.savefig("GA Quality Ration over mutation Rate.png" )
plt.tight_layout()
plt.show()


def generate_knapsack_instance(n, weight_range=(1, 100), value_range=(1, 100), capacity_factor=0.5):
    weights = np.random.randint(weight_range[0], weight_range[1] + 1, size=n)
    values = np.random.randint(value_range[0], value_range[1] + 1, size=n)
    capacity = int(weights.sum() * capacity_factor)
    return weights, values, capacity


**Function:** `benchmark_with_quality(ns, trials=5)`

Run both the exact Dynamic Programming (DP) solver and the Genetic Algorithm (GA) solver on knapsack instances of increasing size, then compare speed and solution quality.
#### Procedure
1. **Input**
   - A list of item counts:  
     `ns = [10, 20, 50, 100, …]`
   - Number of trials per \(n\): `trials` (default 5)
2. **For each** \(n \in ns\):
   1. **Repeat** `trials` times:
      - **Generate** a random knapsack instance with \(n\) items.
      - **Solve** with DP:
        - Record `(dp_value, dp_time)`.
      - **Solve** with GA:
        - Record `(ga_value, ga_time)`.
   2. **Aggregate** across trials:
      - \(\displaystyle\overline{dp\_time}, \ \overline{ga\_time}\)
      - \(\displaystyle\overline{dp\_value}, \ \overline{ga\_value}\)
      - **Quality ratio:**  
        \[
          \text{quality\_ratio}
          = \frac{\overline{ga\_value}}{\overline{dp\_value}}
        \]
   3. **Append** one row to `df_quality` with columns:
      ```
      n | avg_dp_time | avg_ga_time | avg_dp_value | avg_ga_value | quality_ratio 
       ```





def benchmark_varying_capacity(ns, capacity_factors, repeats=5, ga_params=None):
    if ga_params is None: ga_params = {
            'population_size': 200,
            'num_generations': 500,
            'mutation_rate': 0.01,
            'tournament_size': 5,
            'elitism': True }  
    records = []
    for n in ns:
        for cf in capacity_factors:
            dp_times, ga_times = [], []
            dp_vals, ga_vals = [], []
            for _ in range(repeats):
                w, v, C = generate_knapsack_instance(n, capacity_factor=cf)
                val_dp, _, t_dp = run_dp(w, v, C)
                val_ga, _, t_ga = run_ga(w, v, C, ga_params)
                dp_times.append(t_dp); dp_vals.append(val_dp)
                ga_times.append(t_ga); ga_vals.append(val_ga)
            records.append({
                'n_items': n,
                'capacity_factor': cf,
                'dp_time_mean': np.mean(dp_times),
                'ga_time_mean': np.mean(ga_times),
                'dp_value_mean': np.mean(dp_vals),
                'ga_value_mean': np.mean(ga_vals),
                'quality_ratio': np.mean(ga_vals) / np.mean(dp_vals)
            })
    return pd.DataFrame(records)
    
# Example usage:
ns = [200, 300, 500]
cfs = [0.25, 0.5, 0.75]
df_cap = benchmark_varying_capacity(ns, cfs, repeats=3, ga_params=ga_params)
display(df_cap)






def plot_time_vs_capacity(df):
    """
    Plots mean runtime of DP and GA against capacity factor for each n_items,
    ensuring data are sorted so lines render correctly.
    """
    # Ensure proper ordering
    df_sorted = df.sort_values(['n_items', 'capacity_factor'])
    
    plt.figure(figsize=(12, 6))
    for n, group in df_sorted.groupby('n_items'):
        x = group['capacity_factor']
        y_dp = group['dp_time_mean']
        y_ga = group['ga_time_mean']
        plt.plot(x, y_dp, marker='o', label=f'DP n={n}')
        plt.plot(x, y_ga, marker='x', linestyle='--', label=f'GA n={n}')
    
    plt.xlabel('Capacity Factor')
    plt.ylabel('Mean Time (seconds)')
    plt.title('DP vs GA Runtime vs Capacity Factor')
    plt.legend(title='Algorithm / n_items')
    plt.grid(True)
    plt.savefig("runtime_comparision_capacity.png")
    plt.tight_layout()
    plt.show() 


plot_time_vs_capacity(df_cap)


# Pivot so that you can plot quality_ratio vs. capacity_factor for each n_items:
pivot_q = df_cap.pivot(index='capacity_factor', columns='n_items', values='quality_ratio')

pivot_t = df_cap.pivot(index='capacity_factor', columns='n_items', values='ga_time_mean')  # or dp_time_mean, etc.

plt.figure(figsize=(12, 6))
for n in pivot_q.columns:
    plt.plot(pivot_q.index, pivot_q[n], marker='o', label=f'n={n}')
plt.xlabel('Capacity Factor')
plt.ylabel('Quality Ratio')
plt.title('Quality Ratio vs Capacity Factor')
plt.legend()
plt.savefig("quality_comparision_capcity.png")
plt.grid(True)
plt.show()



