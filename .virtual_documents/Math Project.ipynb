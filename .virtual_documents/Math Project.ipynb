# Import the libraries needed
import numpy as np
import pandas as pd
import random
import time
from IPython.display import display
import matplotlib.pyplot as plt




















def solve_knapsack_dp(weights, values, capacity):
    n = len(weights)
    dp = np.zeros((n+1, capacity+1), dtype=int)
    for i in range(1, n+1):
        w_i, v_i = weights[i-1], values[i-1]
        for w in range(capacity+1):
            if w_i <= w:
                dp[i, w] = max(v_i + dp[i-1, w-w_i], dp[i-1, w])
            else:
                dp[i, w] = dp[i-1, w] 

    selected = np.zeros(n, dtype=bool)
    w = capacity
    for i in range(n, 0, -1):
        if dp[i, w] != dp[i-1, w]:
            selected[i-1] = True
            w -= weights[i-1]
    return dp[n, capacity], selected


weights = [2, 3, 4]
values = [5, 7, 8]
capacity = 6
max_value = solve_knapsack_dp(weights, values, capacity)
print(f"For weigths = {weights}, values ={values}, capacity = {capacity} , max_value ={max_value}")





def solve_knapsack_ga(weights, values, capacity, population_size=100, num_generations=200,
                      mutation_rate=0.01, tournament_size=3, elitism=True):

    n = len(weights)
    
    def fitness(ind):
        total_w = int((weights * ind).sum())
        return int((values * ind).sum()) if total_w <= capacity else 0
    
    def create():
        return np.random.randint(0,2,size=n)
    
    def tour(pop, fits):
        competitors = random.sample(range(len(pop)), tournament_size)
        return pop[max(competitors, key=lambda i:fits[i])].copy()
    
    def crossover(p1, p2):
        pt = random.randint(1, n-1)
        return np.concatenate([p1[:pt], p2[pt:]]), np.concatenate([p2[:pt], p1[pt:]])
    
    def mutate(ind):
        for i in range(n):
            if random.random() < mutation_rate:
                ind[i] ^= 1
        return ind

    pop = [create() for _ in range(population_size)]
    best_val, best_ind = 0, pop[0].copy()
    for _ in range(num_generations):
        fits = [fitness(ind) for ind in pop]
        idx = int(np.argmax(fits))
        if fits[idx] > best_val:
            best_val, best_ind = fits[idx], pop[idx].copy()
        new_pop = []
        if elitism:
            new_pop.append(best_ind.copy())
        while len(new_pop) < population_size:
            p1, p2 = tour(pop, fits), tour(pop, fits)
            c1, c2 = crossover(p1, p2)
            new_pop.extend([mutate(c1), mutate(c2)])
        pop = new_pop[:population_size]
    
    return best_val, best_ind








def generate_knapsack_instance(n, weight_range=(1,100), value_range=(1,100), capacity_factor=0.5):
    weights = np.random.randint(weight_range[0], weight_range[1]+1, size=n)
    values  = np.random.randint(value_range[0], value_range[1]+1, size=n)
    capacity = int(weights.sum() * capacity_factor)
    return weights, values, capacity

def run_dp(weights, values, capacity):
    t0 = time.perf_counter()
    value, selected = solve_knapsack_dp(weights, values, capacity)
    return value, selected, time.perf_counter() - t0

def run_ga(weights, values, capacity, params):
    t0 = time.perf_counter()
    value, selected = solve_knapsack_ga(
        weights, values, capacity,
        population_size=params['population_size'],
        num_generations=params['num_generations'],
        mutation_rate=params['mutation_rate'],
        tournament_size=params['tournament_size'],
        elitism=params['elitism']
    )
    return value, selected, time.perf_counter() - t0

# Benchmark function with quality measure
def benchmark_with_quality(ns, repeats=5, ga_params=None):
    if ga_params is None:
        ga_params = {
            'population_size': 100,
            'num_generations': 200,
            'mutation_rate': 0.01,
            'tournament_size': 3,
            'elitism': True
        }
    results = []
    for n in ns:
        dp_times, ga_times = [], []
        dp_vals, ga_vals = [], []
        for _ in range(repeats):
            w, v, C = generate_knapsack_instance(n)
            val_dp, _, t_dp = run_dp(w, v, C)
            val_ga, _, t_ga = run_ga(w, v, C, ga_params)
            dp_times.append(t_dp)
            ga_times.append(t_ga)
            dp_vals.append(val_dp)
            ga_vals.append(val_ga)
        mean_dp_val = np.mean(dp_vals)
        mean_ga_val = np.mean(ga_vals)
        results.append({
            'n_items': n,
            'dp_time_mean': np.mean(dp_times),
            'ga_time_mean': np.mean(ga_times),
            'dp_value_mean': mean_dp_val,
            'ga_value_mean': mean_ga_val,
            'quality_ratio': mean_ga_val / mean_dp_val
        })
    return pd.DataFrame(results)

# Define and run
ns = [10, 20, 50, 100, 200, 300, 400, 500]
ga_params = {
    'population_size': 100,
    'num_generations': 200,
    'mutation_rate': 0.01,
    'tournament_size': 3,
    'elitism': True
}
df_quality = benchmark_with_quality(ns, repeats=5, ga_params=ga_params)

# Display results
display(df_quality)

def benchmark_varying_capacity(ns, capacity_factors, repeats=3, ga_params=None):
    if ga_params is None: ga_params = {
            'population_size': 100,
            'num_generations': 200,
            'mutation_rate': 0.01,
            'tournament_size': 3,
            'elitism': True }  
    records = []
    for n in ns:
        for cf in capacity_factors:
            dp_times, ga_times = [], []
            dp_vals, ga_vals = [], []
            for _ in range(repeats):
                w, v, C = generate_knapsack_instance(n, capacity_factor=cf)
                val_dp, _, t_dp = run_dp(w, v, C)
                val_ga, _, t_ga = run_ga(w, v, C, ga_params)
                dp_times.append(t_dp); dp_vals.append(val_dp)
                ga_times.append(t_ga); ga_vals.append(val_ga)
            records.append({
                'n_items': n,
                'capacity_factor': cf,
                'dp_time_mean': np.mean(dp_times),
                'ga_time_mean': np.mean(ga_times),
                'dp_value_mean': np.mean(dp_vals),
                'ga_value_mean': np.mean(ga_vals),
                'quality_ratio': np.mean(ga_vals) / np.mean(dp_vals)
            })
    return pd.DataFrame(records)

# Example usage:
ns = [10, 20, 50, 100, 200, 300,]
cfs = [0.2, 0.4, 0.6, 0.8]
df_cap = benchmark_varying_capacity(ns, cfs, repeats=3, ga_params=ga_params)
display(df_cap)





# Plot runtime comparison of DP vs GA vs number of items       
plt.figure(figsize=(12, 6))
plt.plot(df_quality['n_items'], df_quality['dp_time_mean'], marker='o', label='DP Time')
plt.plot(df_quality['n_items'], df_quality['ga_time_mean'], marker='s', label='GA Time')
plt.xlabel('Number of Items')
plt.ylabel('Mean Runtime (s)')
plt.title('Runtime Comparison: DP vs GA')
plt.legend()
plt.grid(True)
plt.tight_layout()
plt.savefig('runtime_comparison.png')
plt.show()

# Plot quality ratio vs number of items
plt.figure(figsize=(12,6))
plt.plot(df_quality['n_items'], df_quality['quality_ratio'], marker='o')
plt.xlabel('Number of Items')
plt.ylabel('GA / DP Quality Ratio')
plt.title('Solution Quality Ratio vs Problem Size')
plt.grid(True)
plt.tight_layout()
plt.savefig("solution_quality.png")
plt.show()








def plot_time_vs_capacity(df):
    """
    Plots mean runtime of DP and GA against capacity factor for each n_items,
    ensuring data are sorted so lines render correctly.
    """
    # Ensure proper ordering
    df_sorted = df.sort_values(['n_items', 'capacity_factor'])
    
    plt.figure(figsize=(12, 6))
    for n, group in df_sorted.groupby('n_items'):
        x = group['capacity_factor']
        y_dp = group['dp_time_mean']
        y_ga = group['ga_time_mean']
        plt.plot(x, y_dp, marker='o', label=f'DP n={n}')
        plt.plot(x, y_ga, marker='x', linestyle='--', label=f'GA n={n}')
    
    plt.xlabel('Capacity Factor')
    plt.ylabel('Mean Time (seconds)')
    plt.title('DP vs GA Runtime vs Capacity Factor')
    plt.legend(title='Algorithm / n_items')
    plt.grid(True)
    plt.savefig("runtime_comparision_capacity.png")
    plt.tight_layout()
    plt.show()


plot_time_vs_capacity(df_cap)


def plot_quality_heatmap_annotated(df):
    """
    Annotated heatmap of GA/DP quality ratio across n_items and capacity_factor
    with numeric overlays for easy reading.
    
    Parameters:
      df (pandas.DataFrame) with columns:
        'n_items', 'capacity_factor', 'quality_ratio'
    """
    # Pivot into matrix
    pivot = df.pivot(index='n_items', columns='capacity_factor', values='quality_ratio')
    
    fig, ax = plt.subplots(figsize=(8, 6))
    # Show the heatmap
    im = ax.imshow(pivot.values, aspect='auto', origin='lower', cmap='viridis', vmin=0, vmax=1)
    
    # Set tick labels
    ax.set_xticks(np.arange(len(pivot.columns)))
    ax.set_xticklabels(pivot.columns)
    ax.set_yticks(np.arange(len(pivot.index)))
    ax.set_yticklabels(pivot.index)
    ax.set_xlabel('Capacity Factor')
    ax.set_ylabel('Number of Items')
    ax.set_title('GA vs DP Quality Ratio Heatmap (annotated)')

    # Add annotations
    for i in range(pivot.shape[0]):
        for j in range(pivot.shape[1]):
            ratio = pivot.iloc[i, j]
            color = 'white' if ratio < 0.5 else 'black'
            ax.text(j, i, f"{ratio:.2f}", ha='center', va='center', color=color)
    
    # Colorbar
    cbar = fig.colorbar(im, ax=ax, label='GA/DP Quality Ratio')
    plt.tight_layout()
    filename = f"plot_quality_heatmap_annotated.png"
    plt.savefig(filename)
    plt.show()



plot_quality_heatmap_annotated(df_cap)








# Optimized GA Parameter Sensitivity Experiment
def run_ga_sensitivity(n_items=300, repeats=5):
    default_ga_params = {
        'population_size': 100,
        'num_generations': 200,
        'mutation_rate': 0.01,
        'tournament_size': 3,
        'elitism': True
    }
    sweeps = {
        'population_size': [50, 100, 200, 500],
        'mutation_rate': [0.001, 0.01, 0.05, 0.1],
        'num_generations': [50, 100, 200, 500]
    }

    raw_results = []
    for _ in range(repeats):
        w, v, C = generate_knapsack_instance(n_items)
        dp_val, _, _ = run_dp(w, v, C)  # one DP run per instance

        for param, values in sweeps.items():
            for val in values:
                ga_params = default_ga_params.copy()
                ga_params[param] = val
                val_ga, _, t_ga = run_ga(w, v, C, ga_params)
                raw_results.append({
                    'parameter': param,
                    'value': val,
                    'dp_value': dp_val,
                    'ga_value': val_ga,
                    'ga_time': t_ga
                })

                df_raw = pd.DataFrame(raw_results)

    # Aggregate means
    df_agg = df_raw.groupby(['parameter','value']).agg(
        dp_value_mean=('dp_value','mean'),
        ga_value_mean=('ga_value','mean'),
        ga_time_mean=('ga_time','mean')
    ).reset_index()
    df_agg['quality_ratio'] = df_agg['ga_value_mean'] / df_agg['dp_value_mean']
    
    df_sense=('GAParameterSensitivity', df_agg)
    display(df_sense)
    return df_agg

# Run the optimized sensitivity experiment
df_sensitivity = run_ga_sensitivity(n_items=300, repeats=5)





# Plot Quality Ratio vs Parameter Value for each GA parameter
for param in df_sensitivity['parameter'].unique():
    subset = df_sensitivity[df_sensitivity['parameter'] == param]
    plt.figure(figsize=(12, 6))
    plt.plot(subset['value'], subset['quality_ratio'], marker='o', linestyle='-')

    label = param.replace('_', ' ').title()
    plt.xlabel(label)
    plt.ylabel('GA / DP Quality Ratio')
    plt.title(f'Quality Ratio vs {label}')

    plt.grid(True)
    plt.tight_layout()
    filename = f"quality_ratio_vs_{param}.png"
    plt.savefig(filename)
    plt.show()
    plt.close()   # close the figure to free memory

for param in df_sensitivity['parameter'].unique():
    subset = df_sensitivity[df_sensitivity['parameter'] == param]
    plt.figure(figsize=(12, 6))
    plt.plot(subset['value'], subset['ga_time_mean'], marker='s', linestyle='-')
    
    label = param.replace('_', ' ').title()
    plt.xlabel(label)
    plt.ylabel('Mean GA Runtime (s)')
    plt.title(f'GA Runtime vs {label}')
    
    plt.grid(True)
    plt.tight_layout()
    
    filename = f"ga_runtime_vs_{param}.png"
    plt.savefig(filename)
    plt.show()
    plt.close()


# GA Quality Ratio over Mutation Rate and n
pop_sizes = [50, 100, 200, 500]
mut_rates = [0.001, 0.01, 0.05, 0.1]
heat_results = []
# fix one instance
w2, v2, C2 = generate_knapsack_instance(300)
dp_val2, _, _ = run_dp(w2, v2, C2)
for pop in pop_sizes:
    for mut in mut_rates:
        params = {'population_size': pop, 'num_generations': 200,
                  'mutation_rate': mut, 'tournament_size': 3, 'elitism': True}
        ga_vals = [run_ga(w2, v2, C2, params)[0] for _ in range(3)]
        quality = np.mean(ga_vals) / dp_val2
        heat_results.append({'pop': pop, 'mut': mut, 'quality_ratio': quality})
df_heat = pd.DataFrame(heat_results)
pivot = df_heat.pivot(index='mut', columns='pop', values='quality_ratio').sort_index()
plt.figure(figsize=(8, 6))
plt.imshow(pivot.values, aspect='auto', origin='lower')
plt.xticks(range(len(pop_sizes)), pop_sizes)
plt.yticks(range(len(mut_rates)), mut_rates)
plt.xlabel('Population Size')
plt.ylabel('Mutation Rate')
plt.title('Heatmap: GA Quality Ratio')
plt.colorbar(label='Quality Ratio')
plt.savefig("GA Quality Ration over mutation Rate.png" )
plt.tight_layout()
plt.show()









