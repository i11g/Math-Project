

















def expDP(weigths, value, capacity):
    n = len(weigths)
    # Create DP table at the bottom  - with zero
    dp = [[0]*(capacity + 1) for _ in range(n + 1)]

    # Fill in the DP table
    for i in range(1, n + 1):
        wi = weigths[i - 1] # weigth of i
        vi = value[i - 1]  # value of i
        for w in range(0, capacity + 1):
            if wi <= w:
                dp[i][w] = max(dp[i - 1][w], dp[i - 1][w - wi] + vi) # Take the item, capacity is OK
            else:
                dp[i][w] = dp[i-1][w] # Item can not be taken due to capacity restrictions
    return dp[n][capacity]





test_cases = [
    ([], [], 10, 0),
    ([5], [10], 5, 10),
    ([5], [10], 4, 0),
    ([1, 2, 3], [6, 10, 12], 5, 22),  # classic example
    ([2, 3, 4, 5], [3, 4, 5, 6], 5, 7),
]
for w, v, c, exp in test_cases:
    res = expDP(w, v, c)
    assert res == exp, f"Test failed for weights={w}, values={v}, cap={c}: got {res}, expected {exp}"


weigths = [2, 3, 4]
values = [5, 7, 8]
capacity = 6
max_value = expDP(weigths, values, capacity)
print(f"For weigths = {weigths}, values ={values}, capacity = {capacity} , max_value ={max_value}")





def expGA()


















