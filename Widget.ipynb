{
 "cells": [
  {
   "cell_type": "code",
   "execution_count": 1,
   "id": "cc61b16a-0bd8-4f7c-a1de-7cf9816f36ef",
   "metadata": {},
   "outputs": [
    {
     "data": {
      "application/vnd.jupyter.widget-view+json": {
       "model_id": "0f9643a1efd6461a813d44c33a46c556",
       "version_major": 2,
       "version_minor": 0
      },
      "text/plain": [
       "Text(value='10, 20, 30', description='Weights:', placeholder='e.g. 5,10,15')"
      ]
     },
     "metadata": {},
     "output_type": "display_data"
    },
    {
     "data": {
      "application/vnd.jupyter.widget-view+json": {
       "model_id": "91e7f88940e040908936405568fc4b40",
       "version_major": 2,
       "version_minor": 0
      },
      "text/plain": [
       "Text(value='60, 100, 120', description='Values:', placeholder='e.g. 30,50,70')"
      ]
     },
     "metadata": {},
     "output_type": "display_data"
    },
    {
     "data": {
      "application/vnd.jupyter.widget-view+json": {
       "model_id": "15575a7437964f95b8092a3d974d412d",
       "version_major": 2,
       "version_minor": 0
      },
      "text/plain": [
       "IntText(value=50, description='Capacity:')"
      ]
     },
     "metadata": {},
     "output_type": "display_data"
    },
    {
     "data": {
      "application/vnd.jupyter.widget-view+json": {
       "model_id": "8cdfd725f4054790a1e13f6005ed46a8",
       "version_major": 2,
       "version_minor": 0
      },
      "text/plain": [
       "Button(description='Solve Knapsack', style=ButtonStyle())"
      ]
     },
     "metadata": {},
     "output_type": "display_data"
    },
    {
     "data": {
      "application/vnd.jupyter.widget-view+json": {
       "model_id": "22b50943df0549b9a2691491f0d953c6",
       "version_major": 2,
       "version_minor": 0
      },
      "text/plain": [
       "Output()"
      ]
     },
     "metadata": {},
     "output_type": "display_data"
    }
   ],
   "source": [
    "import ipywidgets as widgets\n",
    "from IPython.display import display\n",
    "\n",
    "# 1) Define the DP solver\n",
    "def knapsack_dp(weights, values, capacity):\n",
    "    n = len(weights)\n",
    "    # dp[i][w] = max value using first i items and capacity w\n",
    "    dp = [[0]*(capacity+1) for _ in range(n+1)]\n",
    "    for i in range(1, n+1):\n",
    "        wt, val = weights[i-1], values[i-1]\n",
    "        for w in range(capacity+1):\n",
    "            dp[i][w] = dp[i-1][w]\n",
    "            if wt <= w:\n",
    "                dp[i][w] = max(dp[i][w], dp[i-1][w-wt] + val)\n",
    "    # back-track to find items\n",
    "    res = dp[n][capacity]\n",
    "    w = capacity\n",
    "    items = []\n",
    "    for i in range(n, 0, -1):\n",
    "        if dp[i][w] != dp[i-1][w]:\n",
    "            items.append(i-1)\n",
    "            w -= weights[i-1]\n",
    "    return res, list(reversed(items))\n",
    "\n",
    "# 2) (Optional) Define a simple GA solver\n",
    "import random\n",
    "def knapsack_ga(weights, values, capacity, pop_size=50, generations=100, mutation_rate=0.05):\n",
    "    n = len(weights)\n",
    "    # initialize population of binary chromosomes\n",
    "    pop = [[random.randint(0,1) for _ in range(n)] for _ in range(pop_size)]\n",
    "    def fitness(chrom):\n",
    "        total_w = sum(w*bit for w,bit in zip(weights, chrom))\n",
    "        total_v = sum(v*bit for v,bit in zip(values, chrom))\n",
    "        return total_v if total_w <= capacity else 0\n",
    "\n",
    "    for _ in range(generations):\n",
    "        # evaluate and sort\n",
    "        scored = [(fitness(ch), ch) for ch in pop]\n",
    "        scored.sort(reverse=True, key=lambda x: x[0])\n",
    "        pop = [ch for _,ch in scored[:pop_size//2]]  # keep top half\n",
    "        # reproduce\n",
    "        while len(pop) < pop_size:\n",
    "            p1, p2 = random.sample(pop, 2)\n",
    "            # one-point crossover\n",
    "            pt = random.randrange(1, n)\n",
    "            child = p1[:pt] + p2[pt:]\n",
    "            # mutate\n",
    "            for i in range(n):\n",
    "                if random.random() < mutation_rate:\n",
    "                    child[i] = 1 - child[i]\n",
    "            pop.append(child)\n",
    "    best = max(pop, key=fitness)\n",
    "    return fitness(best), best\n",
    "\n",
    "# 3) Now set up your widgets and handler\n",
    "weights_input = widgets.Text(\n",
    "    value='10, 20, 30', \n",
    "    description='Weights:',\n",
    "    placeholder='e.g. 5,10,15'\n",
    ")\n",
    "values_input = widgets.Text(\n",
    "    value='60, 100, 120', \n",
    "    description='Values:',\n",
    "    placeholder='e.g. 30,50,70'\n",
    ")\n",
    "capacity_input = widgets.IntText(\n",
    "    value=50,\n",
    "    description='Capacity:'\n",
    ")\n",
    "solve_button = widgets.Button(description=\"Solve Knapsack\")\n",
    "output_area  = widgets.Output()\n",
    "\n",
    "def on_solve_button_click(b):\n",
    "    with output_area:\n",
    "        output_area.clear_output()\n",
    "        # parse inputs\n",
    "        try:\n",
    "            weights = [int(x) for x in weights_input.value.split(',')]\n",
    "            values  = [int(x) for x in values_input.value.split(',')]\n",
    "        except ValueError:\n",
    "            print(\"❌ Please enter valid comma-separated integers.\")\n",
    "            return\n",
    "        if len(weights) != len(values):\n",
    "            print(\"❌ The number of weights and values must match.\")\n",
    "            return\n",
    "        cap = capacity_input.value\n",
    "\n",
    "        # run DP\n",
    "        dp_val, dp_items = knapsack_dp(weights, values, cap)\n",
    "        print(f\"✅ DP Optimal Value: {dp_val}\")\n",
    "        print(f\"   Items: {dp_items}\")\n",
    "\n",
    "        # run GA\n",
    "        ga_val, ga_chrom = knapsack_ga(weights, values, cap)\n",
    "        ga_items = [i for i,bit in enumerate(ga_chrom) if bit]\n",
    "        print(f\"🧬 GA Best Value: {ga_val}\")\n",
    "        print(f\"   Items: {ga_items} (Chromosome: {ga_chrom})\")\n",
    "\n",
    "solve_button.on_click(on_solve_button_click)\n",
    "\n",
    "display(weights_input, values_input, capacity_input, solve_button, output_area)\n"
   ]
  },
  {
   "cell_type": "code",
   "execution_count": null,
   "id": "d9215105-f615-419b-9703-e415716fabfe",
   "metadata": {},
   "outputs": [],
   "source": [
    "test_cases = [\n",
    "    # ([], [], 10, 0),\n",
    "    ([5], [10], 5, 10),\n",
    "    ([5], [10], 4, 0),\n",
    "    ([1, 2, 3], [6, 10, 12], 5, 22),  # classic example\n",
    "    ([2, 3, 4, 5], [3, 4, 5, 6], 5, 7),\n",
    "]\n",
    "for w, v, c, exp in test_cases:\n",
    "    res = solve_knapsack_dp(w, v, c)\n",
    "    assert res == exp, f\"Test failed for weights={w}, values={v}, cap={c}: got {res}, expected {exp}\""
   ]
  }
 ],
 "metadata": {
  "kernelspec": {
   "display_name": "Python (myenv)",
   "language": "python",
   "name": "myenv"
  },
  "language_info": {
   "codemirror_mode": {
    "name": "ipython",
    "version": 3
   },
   "file_extension": ".py",
   "mimetype": "text/x-python",
   "name": "python",
   "nbconvert_exporter": "python",
   "pygments_lexer": "ipython3",
   "version": "3.12.3"
  }
 },
 "nbformat": 4,
 "nbformat_minor": 5
}
