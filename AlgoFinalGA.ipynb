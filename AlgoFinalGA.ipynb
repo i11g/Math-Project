{
 "cells": [
  {
   "cell_type": "code",
   "execution_count": null,
   "id": "363bcd87-6503-4136-a52d-657005a7ece8",
   "metadata": {},
   "outputs": [],
   "source": [
    "def solve_knapsack_ga(weights, values, capacity, population_size=100, num_generations=200,\n",
    "                      mutation_rate=0.01, tournament_size=3, elitism=True):\n",
    "   \n",
    "    n = len(weights)\n",
    "    def fitness(ind):\n",
    "        total_w = int((weights * ind).sum())\n",
    "        return int((values * ind).sum()) if total_w <= capacity else 0\n",
    "    \n",
    "    def create():\n",
    "        return np.random.randint(0, 2, size=n)\n",
    "    \n",
    "    def tour(pop, fits):\n",
    "        competitors = random.sample(range(len(pop)), tournament_size)\n",
    "        return pop[max(competitors, key=lambda i:fits[i])].copy()\n",
    "    \n",
    "    def crossover(p1, p2):\n",
    "        pt = random.randint(1, n-1)\n",
    "        return np.concatenate([p1[:pt], p2[pt:]]), np.concatenate([p2[:pt], p1[pt:]])\n",
    "    \n",
    "    def mutate(ind):\n",
    "        for i in range(n):\n",
    "            if random.random() < mutation_rate:\n",
    "                ind[i] ^= 1\n",
    "        return ind\n",
    "\n",
    "    pop = [create() for _ in range(population_size)]\n",
    "    best_val, best_ind = 0, pop[0].copy()\n",
    "    for _ in range(num_generations):\n",
    "        fits = [fitness(ind) for ind in pop]\n",
    "        idx = int(np.argmax(fits))\n",
    "        if fits[idx] > best_val:\n",
    "            best_val, best_ind = fits[idx], pop[idx].copy()\n",
    "             new_pop = []\n",
    "        if elitism:\n",
    "            new_pop.append(best_ind.copy())\n",
    "        while len(new_pop) < population_size:\n",
    "            p1, p2 = tour(pop, fits), tour(pop, fits)\n",
    "            c1, c2 = crossover(p1, p2)\n",
    "            new_pop.extend([mutate(c1), mutate(c2)])\n",
    "        pop = new_pop[:population_size]\n",
    "    return best_val, best_ind"
   ]
  }
 ],
 "metadata": {
  "kernelspec": {
   "display_name": "Python (myenv)",
   "language": "python",
   "name": "myenv"
  },
  "language_info": {
   "codemirror_mode": {
    "name": "ipython",
    "version": 3
   },
   "file_extension": ".py",
   "mimetype": "text/x-python",
   "name": "python",
   "nbconvert_exporter": "python",
   "pygments_lexer": "ipython3",
   "version": "3.12.3"
  }
 },
 "nbformat": 4,
 "nbformat_minor": 5
}
