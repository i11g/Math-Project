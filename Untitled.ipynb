{
 "cells": [
  {
   "cell_type": "markdown",
   "id": "0369c32e-af83-44a9-979f-ff3112140492",
   "metadata": {},
   "source": [
    " Techniques such as grid search or random search may be employed to systematically explore the parameter space."
   ]
  },
  {
   "cell_type": "markdown",
   "id": "cb0242da-2d47-4519-8c7e-54b67619c594",
   "metadata": {},
   "source": [
    "For the Genetic Algorithm, we are evolving a population of candidates(binary vectors of length n) over many generations using selection, crossover, mutation and elitism. We start by defining a fitness function that calculates the total value of a candidates and assign a fitness of 0 to any overweight solution, so only valid packings compete. The initial population is created randomly and each individual is a random 0/1 string with length n.The goal is that starting randomly, GA can exploire many regions of the solution space. Next we create the slection function in which we choose a tournamet as a way to select memebers, becouse that type of selection balances selective pressure (favoring better solutions) with genetic diversity (random sampling). We randomlyy pick the tournament_size members and then take the fittest among them. As a next step we create the crossover function with a single-point crossover at random cut. The crossover function main goal is to create a $n$ offsprings which may inherits good subset of items form their parents. We also create the mutation function, whcih flips each bit with a small probability with the main objective to inject a new genetic material to avoid premature convergence and explore unseen packings. And as a last step we run the main loop in which we\n",
    "evaluate "
   ]
  }
 ],
 "metadata": {
  "kernelspec": {
   "display_name": "Python (myenv)",
   "language": "python",
   "name": "myenv"
  },
  "language_info": {
   "codemirror_mode": {
    "name": "ipython",
    "version": 3
   },
   "file_extension": ".py",
   "mimetype": "text/x-python",
   "name": "python",
   "nbconvert_exporter": "python",
   "pygments_lexer": "ipython3",
   "version": "3.12.3"
  }
 },
 "nbformat": 4,
 "nbformat_minor": 5
}
