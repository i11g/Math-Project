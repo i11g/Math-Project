{
 "cells": [
  {
   "cell_type": "markdown",
   "id": "0369c32e-af83-44a9-979f-ff3112140492",
   "metadata": {},
   "source": [
    " Techniques such as grid search or random search may be employed to systematically explore the parameter space."
   ]
  },
  {
   "cell_type": "markdown",
   "id": "57ab2c56-63de-4aab-addb-5d49e5322490",
   "metadata": {},
   "source": [
    "#### Bellman Recurrence\n",
    "Let $V(x)$ denote the optimal value for state $x$. Suppose that from state $x$ you choose an action $u$ from the set of feasible actions $\\mathcal{U}(x)$, which transitions you to state $ y \\;=\\; f(x,u) $ with immediate cost (or negative reward) $c\\bigl(x,u,f(x,u)\\bigr)$. \n",
    "Then the optimal value satisfies the recurrence\n",
    "$$vV(x)\n",
    "\\;=\\;\n",
    "\\min_{u \\in \\mathcal{U}(x)}\n",
    "\\Bigl\\{\\,\n",
    "  c\\bigl(x,u,f(x,u)\\bigr)\n",
    "  \\;+\\;\n",
    "  V\\bigl(f(x,u)\\bigr)\n",
    "\\Bigr\\}\n",
    "$$\n",
    "or, in a maximization setting,\n",
    "$$ V(x) \\;=\\; \\max_{u \\in \\mathcal{U}(x)} \\Bigl\\{r\\bigl(x,u,f(x,u)\\bigr) \\;+\\; V\\bigl(f(x,u)\\bigr) \\Bigr\\}. $$\n",
    "\n",
    "#### Base Cases\n",
    "To ground the recurrence, one must specify boundary conditions. For example, if $x^*$ is a terminal (or absorbing) state, one typically sets\n",
    "$\n",
    "  V(x^*) \\;=\\; 0\n",
    "  \\quad\\text{(or some known terminal value).}\n",
    "$\n",
    "\n",
    "*#### Putting It All Together*\n",
    "- Identify the state space $\\mathcal{X}$ and action sets $\\mathcal{U}(x)$ for each $x\\in\\mathcal{X}$.\n",
    "- Derive the state transition function $y = f(x,u)$ and cost (or reward) function $c(x,u,y)$ (or $r(x,u,y)$).\n",
    "- Write down the Bellman recurrence \\eqref{eq:bellman}, choosing $\\min$ for cost-minimization or $\\max$ for reward-maximization.\n",
    "- Specify base cases $V(x^*)$ for terminal states.\n",
    "- Choose an implementation style:\n",
    "  - Top–down: Recursively compute $V(x)$ and memoize.\n",
    "  - Bottom–up: Order states, then iteratively fill a table for $V(x)$.*"
   ]
  },
  {
   "cell_type": "markdown",
   "id": "ee3d51bb-3c19-48dc-99cf-40722c548031",
   "metadata": {},
   "source": [
    "- Fewer stagnated elite solutions. With a very low μ (0.001), the population can get stuck in local peaks for more generations often forcing more comparisons or bookkeeping (e.g. evaluating similar chromosomes over and over).\n",
    "- Higher mutation → faster diversity injection. The algorithm explores more broadly, so it may converge “fast enough” to a decent ensemble and skip some extra crossovers. (In many implementations, if large swaths of the population become identical, you still run the same loops. But if mutation keeps them varied, you avoid extremely similar‐chromosome checks or rebuild steps that can add small overhead.)"
   ]
  },
  {
   "cell_type": "markdown",
   "id": "39ebd65d-3e9e-40a7-ba9e-cc02360e6596",
   "metadata": {},
   "source": [
    "The values in the table are computed using the recurrence relation described bellow, progressing from smaller subproblems to the final solution, which is found at $dp[n][W]$.\n",
    "\n",
    "Let $dp[i][w]$ represent the maximum value that can be obtained by considering items up to index $i$ (from 0 to $n-1$) with a knapsack capacity of $w$ (from 0 to $W$). The recurrence relation is defined as follows $1 \\le i \\le n$ and $0 \\le w \\le W$: \n"
   ]
  },
  {
   "cell_type": "markdown",
   "id": "cd450be2-c7e2-42a6-829a-64defdd62ed7",
   "metadata": {},
   "source": [
    "% Project Summary (Abstract) for 0–1 Knapsack DP Implementation\n",
    "\\section*{Abstract}\n",
    "This project presents a robust implementation and analysis of the classic 0–1 knapsack problem using a dynamic programming (DP) approach, executed and visualized within Jupyter notebooks. We formally define the state\n",
    "$$\n",
    "  \\mathrm{DP}[i][w]=\n",
    "    \\max\\bigl\\{\\text{total value using items }1,\\dots,i\\text{ with capacity }w\\bigr\\},\n",
    "    \\quad0\\le i\\le n,\\;0\\le w\\le W.\n",
    "$$\n",
    "The recurrence\n",
    "\\[\n",
    "  \\mathrm{DP}[i][w]=\n",
    "    \\begin{cases}\n",
    "      \\max\\bigl(\\mathrm{DP}[i-1][w],\\,\\mathrm{DP}[i-1][w-w_i]+v_i\\bigr), & w_i\\le w,\\\\\n",
    "      \\mathrm{DP}[i-1][w], & w_i>w,\n",
    "    \\end{cases}\n",
    "\\]\n",
    "ensures an $\\mathcal O(nW)$ time solution. We augment the DP table with a boolean \\texttt{take[i][w]} matrix to enable $\\mathcal O(n)$ back‑tracking, thereby recovering the exact subset of items achieving optimal value. Experimental results on benchmark instances demonstrate both correctness and scalability, and the entire codebase, analysis plots, and performance tables are available in accompanying Jupyter notebooks.\\vspace{1ex}\n",
    "\n",
    "\\textbf{Keywords:} 0–1 knapsack, dynamic programming, back‑tracking, Jupyter notebooks, algorithm analysis\n"
   ]
  },
  {
   "cell_type": "markdown",
   "id": "cb0242da-2d47-4519-8c7e-54b67619c594",
   "metadata": {},
   "source": [
    "For the Genetic Algorithm, we are evolving a population of candidates(binary vectors of length n) over many generations using selection, crossover, mutation and elitism. We start by defining a fitness function that calculates the total value of a candidates and assign a fitness of 0 to any overweight solution, so only valid packings compete. The initial population is created randomly and each individual is a random 0/1 string with length n.The goal is that starting randomly, GA can exploire many regions of the solution space. Next we create the slection function in which we choose a tournamet as a way to select memebers, becouse that type of selection balances selective pressure (favoring better solutions) with genetic diversity (random sampling). We randomlyy pick the tournament_size members and then take the fittest among them. As a next step we create the crossover function with a single-point crossover at random cut. The crossover function main goal is to create a $n$ offsprings which may inherits good subset of items form their parents. We also create the mutation function, whcih flips each bit with a small probability with the main objective to inject a new genetic material to avoid premature convergence and explore unseen packings. And as a last step we run the main loop in which we\n",
    "evaluate "
   ]
  },
  {
   "cell_type": "markdown",
   "id": "7ee41eb8-cabc-45ca-a6cf-d659a43123d1",
   "metadata": {},
   "source": [
    "We will solve the 0/1 Knapsack Problem by using a population of binary vectors of length $n$, where each bit indicates whether the corresponding item is included or not. Our GA algorithm will have the following default parameters: \n",
    "- `population_size = 100`  \n",
    "- `num_generations = 200`  \n",
    "- `mutation_rate = 0.01`  \n",
    "- `tournament_size = 3`  \n",
    "- `elitism = True`\n",
    "Our GA algorithm fitness function will the total value of the chosen items if their total weight does not exceed the capacity. Otherwise we assign fitness to 0 to enforce feasibility. We generate an initial population `population_size` individuals by sampling each bit uniformly at random from {0, 1}. The other GA parameters wiil be set as follow:\n",
    "- Selection (Tournament). To choose parents, we perform tournaments of size `tournament_size`, randomly pick that many individuals and select the one with highest fitness. This strikes a balance between selective pressure and genetic diversity.\n",
    "- Crossover. We apply single-point crossover: choose a random cut-point in `[1, n–1]`, and swap the tails of two parents to produce two offspring. This recombines useful building blocks.\n",
    "- Mutation. Each bit of an offspring is flipped with probability `mutation_rate`. Mutation injects new genetic material and helps avoid local optima.\n",
    "- Elitism. If `elitism = True`, the best individual from the current generation is copied unchanged into the next generation, ensuring solution quality never degrades.\n",
    "In the main loop we repeat `num_generations` and evaluate the fitness of all individuals, record the best individual so far and build a new population by either copy the elite or fill the rest by selecting parents, applying crossover, then mutation. At the we truncate the population to `population_size`.\n",
    "The algoritm returns the best value and its corresponding binary vector."
   ]
  },
  {
   "cell_type": "code",
   "execution_count": null,
   "id": "5482186a-0561-4820-b7a9-f326b4c65be5",
   "metadata": {},
   "outputs": [],
   "source": [
    "# GA Quality Ratio over Mutation Rate and n\n",
    "pop_sizes = [50, 100, 200, 500]\n",
    "mut_rates = [0.001, 0.01, 0.05, 0.1]\n",
    "heat_results = []\n",
    "# fix one instance\n",
    "w2, v2, C2 = generate_knapsack_instance(300)\n",
    "dp_val2, _, _ = run_dp(w2, v2, C2)\n",
    "for pop in pop_sizes:\n",
    "    for mut in mut_rates:\n",
    "        params = {'population_size': pop, 'num_generations': 200,\n",
    "                  'mutation_rate': mut, 'tournament_size': 3, 'elitism': True}\n",
    "        ga_vals = [run_ga(w2, v2, C2, params)[0] for _ in range(3)]\n",
    "        quality = np.mean(ga_vals) / dp_val2\n",
    "        heat_results.append({'pop': pop, 'mut': mut, 'quality_ratio': quality})\n",
    "df_heat = pd.DataFrame(heat_results)\n",
    "pivot = df_heat.pivot(index='mut', columns='pop', values='quality_ratio').sort_index()\n",
    "plt.figure(figsize=(8, 6))\n",
    "plt.imshow(pivot.values, aspect='auto', origin='lower')\n",
    "plt.xticks(range(len(pop_sizes)), pop_sizes)\n",
    "plt.yticks(range(len(mut_rates)), mut_rates)\n",
    "plt.xlabel('Population Size')\n",
    "plt.ylabel('Mutation Rate')\n",
    "plt.title('Heatmap: GA Quality Ratio')\n",
    "plt.colorbar(label='Quality Ratio')\n",
    "plt.savefig(\"GA Quality Ration over mutation Rate.png\" )\n",
    "plt.tight_layout()\n",
    "plt.show()"
   ]
  },
  {
   "cell_type": "code",
   "execution_count": null,
   "id": "17e1f0cc-80b0-447b-b8ca-a064e3261273",
   "metadata": {},
   "outputs": [],
   "source": [
    "def generate_knapsack_instance(n, weight_range=(1, 100), value_range=(1, 100), capacity_factor=0.5):\n",
    "    weights = np.random.randint(weight_range[0], weight_range[1] + 1, size=n)\n",
    "    values = np.random.randint(value_range[0], value_range[1] + 1, size=n)\n",
    "    capacity = int(weights.sum() * capacity_factor)\n",
    "    return weights, values, capacity"
   ]
  },
  {
   "cell_type": "code",
   "execution_count": null,
   "id": "54b31ecb-b59b-480e-bf3a-6a33f1fcf1df",
   "metadata": {},
   "outputs": [],
   "source": [
    "**Function:** `benchmark_with_quality(ns, trials=5)`\n",
    "\n",
    "Run both the exact Dynamic Programming (DP) solver and the Genetic Algorithm (GA) solver on knapsack instances of increasing size, then compare speed and solution quality.\n",
    "#### Procedure\n",
    "1. **Input**\n",
    "   - A list of item counts:  \n",
    "     `ns = [10, 20, 50, 100, …]`\n",
    "   - Number of trials per \\(n\\): `trials` (default 5)\n",
    "2. **For each** \\(n \\in ns\\):\n",
    "   1. **Repeat** `trials` times:\n",
    "      - **Generate** a random knapsack instance with \\(n\\) items.\n",
    "      - **Solve** with DP:\n",
    "        - Record `(dp_value, dp_time)`.\n",
    "      - **Solve** with GA:\n",
    "        - Record `(ga_value, ga_time)`.\n",
    "   2. **Aggregate** across trials:\n",
    "      - \\(\\displaystyle\\overline{dp\\_time}, \\ \\overline{ga\\_time}\\)\n",
    "      - \\(\\displaystyle\\overline{dp\\_value}, \\ \\overline{ga\\_value}\\)\n",
    "      - **Quality ratio:**  \n",
    "        \\[\n",
    "          \\text{quality\\_ratio}\n",
    "          = \\frac{\\overline{ga\\_value}}{\\overline{dp\\_value}}\n",
    "        \\]\n",
    "   3. **Append** one row to `df_quality` with columns:\n",
    "      ```\n",
    "      n | avg_dp_time | avg_ga_time | avg_dp_value | avg_ga_value | quality_ratio \n",
    "       ```"
   ]
  },
  {
   "cell_type": "markdown",
   "id": "b59df2ff-5fad-491a-9fa1-18ca080743f4",
   "metadata": {},
   "source": [
    "4.2 The Impact of Knapsack Capacity\n",
    "As we mention before the DP approach runs in pseudo-polynomial time \n",
    ", meaning its runtime grows linearly with the capacity \n",
    " for a given number of items[6]. In contrast, a genetic algorithm (GA) is a heuristic that searches the space of item subsets by evolving a population of candidate solutions. A GA’s per-generation work is roughly \n",
    " (evaluating fitness involves checking all \n",
    " items) and the total runtime is \n",
    " for \n",
    " generations (often much smaller than the exhaustive DP table). Thus, DP’s runtime and memory use increases directly with knapsack capacity, while GA’s runtime is relatively insensitive to capacity size, depending more on the number of items and chosen population/genetic parameters[7].\n",
    "\n",
    "To understand how knapsack capacity affects each solver’s performance, we benchmark both the DP approach and the GA approach at three different capacity levels - specifically, 25 %, 50 %, and 75 % of the total weight of generated items. Much like our earlier experiments that varied the number of items, we define a function called benchmark_varying_capacity(ns, capacity_factors, repeats, ga_params) which, for each combination of number of items \n",
    " and capacity factor \n",
    ", performs the following steps:\n",
    "\n",
    "Generate repeats independent instances. For each instance, we call w, v, C = generate_knapsack_instance(n, capacity_factor=cf) which returns random item weights w[ ], values v[ ], and knapsack capacity C set.\n",
    "Run both solvers on each instance run_dp(w, v, C) and run_ga(w, v, C, ga_params)\n",
    "Record and average results dp_time_mean = mean(dp_times), ga_time_mean = mean(ga_times), dp_value_mean = mean(dp_vals), ga_value_mean = mean(ga_vals), quality_ratio = dp_value_mean.\n",
    "Aggregate the results into a DataFrame At the end we have a pandas DataFrame ['n_items', 'capacity_factor', 'dp_time_mean', 'ga_time_mean', 'dp_value_mean', 'ga_value_mean', 'quality_ratio']"
   ]
  },
  {
   "cell_type": "code",
   "execution_count": null,
   "id": "80467159-5821-4daf-a5e8-c358ea02fa48",
   "metadata": {},
   "outputs": [],
   "source": [
    "def benchmark_varying_capacity(ns, capacity_factors, repeats=5, ga_params=None):\n",
    "    if ga_params is None: ga_params = {\n",
    "            'population_size': 200,\n",
    "            'num_generations': 500,\n",
    "            'mutation_rate': 0.01,\n",
    "            'tournament_size': 5,\n",
    "            'elitism': True }  \n",
    "    records = []\n",
    "    for n in ns:\n",
    "        for cf in capacity_factors:\n",
    "            dp_times, ga_times = [], []\n",
    "            dp_vals, ga_vals = [], []\n",
    "            for _ in range(repeats):\n",
    "                w, v, C = generate_knapsack_instance(n, capacity_factor=cf)\n",
    "                val_dp, _, t_dp = run_dp(w, v, C)\n",
    "                val_ga, _, t_ga = run_ga(w, v, C, ga_params)\n",
    "                dp_times.append(t_dp); dp_vals.append(val_dp)\n",
    "                ga_times.append(t_ga); ga_vals.append(val_ga)\n",
    "            records.append({\n",
    "                'n_items': n,\n",
    "                'capacity_factor': cf,\n",
    "                'dp_time_mean': np.mean(dp_times),\n",
    "                'ga_time_mean': np.mean(ga_times),\n",
    "                'dp_value_mean': np.mean(dp_vals),\n",
    "                'ga_value_mean': np.mean(ga_vals),\n",
    "                'quality_ratio': np.mean(ga_vals) / np.mean(dp_vals)\n",
    "            })\n",
    "    return pd.DataFrame(records)\n",
    "    \n",
    "# Example usage:\n",
    "ns = [200, 300, 500]\n",
    "cfs = [0.25, 0.5, 0.75]\n",
    "df_cap = benchmark_varying_capacity(ns, cfs, repeats=3, ga_params=ga_params)\n",
    "display(df_cap)\n"
   ]
  },
  {
   "cell_type": "markdown",
   "id": "a4a48b81-7e9a-400d-9547-9163fea0d109",
   "metadata": {},
   "source": [
    "4.2.1 Plotting the results\n",
    "To present the outcome of our results we will performe the follwoing two plots:\n",
    "\n",
    "Runtime Comparison Plot: A line plot showing the capacity factyor on the x-axis and the runtime (in seconds) on the y-axis.\n",
    "Solution Quality Plot: Another plot will display the solution quality of the GA relative to the optimal solution obtained by DP. Again on the x-axis we will represent the capacity factor and the y-axis we will show the quality ratio."
   ]
  },
  {
   "cell_type": "code",
   "execution_count": null,
   "id": "951996cc-ec5a-4596-948a-e844f31487a8",
   "metadata": {},
   "outputs": [],
   "source": [
    "def plot_time_vs_capacity(df):\n",
    "    \"\"\"\n",
    "    Plots mean runtime of DP and GA against capacity factor for each n_items,\n",
    "    ensuring data are sorted so lines render correctly.\n",
    "    \"\"\"\n",
    "    # Ensure proper ordering\n",
    "    df_sorted = df.sort_values(['n_items', 'capacity_factor'])\n",
    "    \n",
    "    plt.figure(figsize=(12, 6))\n",
    "    for n, group in df_sorted.groupby('n_items'):\n",
    "        x = group['capacity_factor']\n",
    "        y_dp = group['dp_time_mean']\n",
    "        y_ga = group['ga_time_mean']\n",
    "        plt.plot(x, y_dp, marker='o', label=f'DP n={n}')\n",
    "        plt.plot(x, y_ga, marker='x', linestyle='--', label=f'GA n={n}')\n",
    "    \n",
    "    plt.xlabel('Capacity Factor')\n",
    "    plt.ylabel('Mean Time (seconds)')\n",
    "    plt.title('DP vs GA Runtime vs Capacity Factor')\n",
    "    plt.legend(title='Algorithm / n_items')\n",
    "    plt.grid(True)\n",
    "    plt.savefig(\"runtime_comparision_capacity.png\")\n",
    "    plt.tight_layout()\n",
    "    plt.show() "
   ]
  },
  {
   "cell_type": "code",
   "execution_count": null,
   "id": "b14fbe50-1943-4d47-b33d-b8ea55b04c57",
   "metadata": {},
   "outputs": [],
   "source": [
    "plot_time_vs_capacity(df_cap)"
   ]
  },
  {
   "cell_type": "code",
   "execution_count": null,
   "id": "1399af99-e2e3-4cba-ae0c-5f9735f907f7",
   "metadata": {},
   "outputs": [],
   "source": [
    "# Pivot so that you can plot quality_ratio vs. capacity_factor for each n_items:\n",
    "pivot_q = df_cap.pivot(index='capacity_factor', columns='n_items', values='quality_ratio')\n",
    "\n",
    "pivot_t = df_cap.pivot(index='capacity_factor', columns='n_items', values='ga_time_mean')  # or dp_time_mean, etc.\n",
    "\n",
    "plt.figure(figsize=(12, 6))\n",
    "for n in pivot_q.columns:\n",
    "    plt.plot(pivot_q.index, pivot_q[n], marker='o', label=f'n={n}')\n",
    "plt.xlabel('Capacity Factor')\n",
    "plt.ylabel('Quality Ratio')\n",
    "plt.title('Quality Ratio vs Capacity Factor')\n",
    "plt.legend()\n",
    "plt.savefig(\"quality_comparision_capcity.png\")\n",
    "plt.grid(True)\n",
    "plt.show()"
   ]
  },
  {
   "cell_type": "markdown",
   "id": "4b6f5d7f-4a74-4465-9157-28c2906a3862",
   "metadata": {},
   "source": [
    "4.2.2 Runtime Performance and Solution Quality in Varying Size & Capacity Tightness\n",
    "4.2.2.1 Runtime Performance\n",
    "DP runtimes grow roughly in proportion to both the number of items \n",
    " and the knapsack’s capacity \n",
    ", whereas the GA runtimes are almost flat with respect to capacity (and only grow mildly as \n",
    " increases). Capacity factor moves of 0.25 → 0.50 → 0.75, are increasing \n",
    " by factors of 2.0 and 3.0, respectively. Since the DP table is \n",
    ", its runtime goes up almost linearly in the capacity factor. Likewise, when \n",
    " goes from 200 → 300 → 500, the DP runtime also scales up linearly in \n",
    ". On the other hand, a typical GA‐based solver fixes a population size and number of generations up front (e.g. 100 chromosomes × 200 generations). Evaluating the fitness of one candidate solution is an \n",
    " operation, but it does not depend on \n",
    " itself. As a result, changing the capacity factor hardly moves the GA’s “mean time” at all. That is why all three GA curves (n=200, n=300, n=500) sit almost flat from 0.25→0.50→0.75. At small \n",
    " and small capacity (e.g. n=200, cap=0.25), DP is actually faster (≈0.4 s) than GA (≈0.9 s), because the DP table (200×W) is still tiny. As capacity grows (say n=200→cap=0.75), DP’s table becomes much larger (200×(0.75·sum‐of‐weights) vs. 200×(0.25·sum‐of‐weights)), so DP time climbs to ≈1.3 s. GA, by contrast, is still about 0.7–0.9 s. Once n is large (e.g. n=500), DP is doing a 500 × W table; even at cap=0.25 it’s already ≈2.7 s, and by cap=0.75 it’s ≈8.5 s. Meanwhile GA for n=500 stays around ≈0.8–1.0 s no matter what the capacity factor is.\n",
    "\n",
    "In other words, DP’s runtime grows linearly in both n and W, while GA’s runtime grows only in n (and in practice very mildly), and is essentially independent of the knapsack‐capacity parameter.\n",
    "\n",
    "Finally, you also see that at small problem sizes and small capacities, DP can be faster, but once n or W becomes large, DP’s runtime explodes—whereas the GA runtime remains roughly constant.\n",
    "\n",
    "4.2.2.2 Solution Quality\n",
    "The results of our experiments on the solution quality are not very consistent, but the general trends which we observe are the following:\n",
    "\n",
    "GA’s quality degrades as the number of items grows (for most capacity factors).\n",
    "GA tends to do best (relative to DP) when the capacity factor is “in the middle” (around 0.50), especially for moderate‐sized n. In a “medium” capacity regime (about half the total weight), there are often many nearly‐optimal ways to fill the knapsack, so the GA can “stumble” onto one of those pretty easily. In other words, there is more combinatorial slack (more good‐enough subsets), and the GA’s randomness/exploration has a higher chance of landing near the optimum."
   ]
  }
 ],
 "metadata": {
  "kernelspec": {
   "display_name": "Python (myenv)",
   "language": "python",
   "name": "myenv"
  },
  "language_info": {
   "codemirror_mode": {
    "name": "ipython",
    "version": 3
   },
   "file_extension": ".py",
   "mimetype": "text/x-python",
   "name": "python",
   "nbconvert_exporter": "python",
   "pygments_lexer": "ipython3",
   "version": "3.12.3"
  }
 },
 "nbformat": 4,
 "nbformat_minor": 5
}
