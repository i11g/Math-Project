{
 "cells": [
  {
   "cell_type": "code",
   "execution_count": null,
   "id": "fdebec94-0aee-4380-ac14-d8f065c05c0c",
   "metadata": {},
   "outputs": [],
   "source": [
    "def solve_knapsack_dp(weights, values, capacity):\n",
    "    n = len(weights)\n",
    "    dp = np.zeros((n + 1, capacity+1), dtype=int)\n",
    "    for i in range(1, n + 1):\n",
    "        w_i, v_i = weights[i - 1], values[i - 1]\n",
    "        for w in range(capacity + 1):\n",
    "            if w_i <= w:\n",
    "                dp[i, w] = max(v_i + dp[i-1, w-w_i], dp[i-1, w])\n",
    "            else:\n",
    "                dp[i, w] = dp[i-1, w] \n",
    "\n",
    "    selected = np.zeros(n, dtype=bool)\n",
    "    w = capacity\n",
    "    for i in range(n, 0, -1):\n",
    "        if dp[i, w] != dp[i - 1, w]:\n",
    "            selected[i - 1] = True\n",
    "            w -= weights[i - 1]\n",
    "    return dp[n, capacity], selected"
   ]
  }
 ],
 "metadata": {
  "kernelspec": {
   "display_name": "Python (myenv)",
   "language": "python",
   "name": "myenv"
  },
  "language_info": {
   "codemirror_mode": {
    "name": "ipython",
    "version": 3
   },
   "file_extension": ".py",
   "mimetype": "text/x-python",
   "name": "python",
   "nbconvert_exporter": "python",
   "pygments_lexer": "ipython3",
   "version": "3.12.3"
  }
 },
 "nbformat": 4,
 "nbformat_minor": 5
}
