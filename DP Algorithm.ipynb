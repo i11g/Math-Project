{
 "cells": [
  {
   "cell_type": "code",
   "execution_count": 1,
   "id": "f695b397-65a8-49a3-9e46-3c92a6f1f08c",
   "metadata": {},
   "outputs": [
    {
     "name": "stdout",
     "output_type": "stream",
     "text": [
      "Maximum Profit: 120\n",
      "Items in Knapsack: [0, 2]\n"
     ]
    }
   ],
   "source": [
    "def knapsack(weights, profits, capacity):\n",
    "    n = len(weights)\n",
    "    dp = [[0] * (capacity + 1) for _ in range(n + 1)]\n",
    "\n",
    "    # Build DP table\n",
    "    for i in range(1, n + 1):  # Items\n",
    "        for w in range(capacity + 1):  # Capacity from 0 to W\n",
    "            if weights[i-1] > w:  # If item is too heavy, exclude it\n",
    "                dp[i][w] = dp[i-1][w]\n",
    "            else:\n",
    "                dp[i][w] = max(dp[i-1][w], profits[i-1] + dp[i-1][w - weights[i-1]])\n",
    "\n",
    "    # Find selected items\n",
    "    w = capacity\n",
    "    selected_items = []\n",
    "    for i in range(n, 0, -1):\n",
    "        if dp[i][w] != dp[i-1][w]:  # If the value changed, the item was included\n",
    "            selected_items.append(i-1)  # Store item index\n",
    "            w -= weights[i-1]\n",
    "\n",
    "    selected_items.reverse()  # To get items in order\n",
    "\n",
    "    return dp[n][capacity], selected_items\n",
    "\n",
    "# Example usage:\n",
    "weights = [3, 2, 4, 5, 1]\n",
    "profits = [50, 40, 70, 80, 10]  \n",
    "capacity = 7\n",
    "\n",
    "max_profit, items = knapsack(weights, profits, capacity)\n",
    "print(\"Maximum Profit:\", max_profit)\n",
    "print(\"Items in Knapsack:\", items)  "
   ]
  },
  {
   "cell_type": "code",
   "execution_count": null,
   "id": "56b5b8e5-6969-4e7a-b2de-1afc9f19d665",
   "metadata": {},
   "outputs": [],
   "source": []
  }
 ],
 "metadata": {
  "kernelspec": {
   "display_name": "Python (myenv)",
   "language": "python",
   "name": "myenv"
  },
  "language_info": {
   "codemirror_mode": {
    "name": "ipython",
    "version": 3
   },
   "file_extension": ".py",
   "mimetype": "text/x-python",
   "name": "python",
   "nbconvert_exporter": "python",
   "pygments_lexer": "ipython3",
   "version": "3.12.3"
  }
 },
 "nbformat": 4,
 "nbformat_minor": 5
}
