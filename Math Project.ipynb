{
 "cells": [
  {
   "cell_type": "markdown",
   "id": "92c53bbb-848c-4b01-b83b-f15b5a1e7c46",
   "metadata": {},
   "source": [
    "# Comparative Study of Dynamic Programming and Genetic Algorithms for the Solution of 0/1 Knapsack Problem"
   ]
  },
  {
   "cell_type": "markdown",
   "id": "2b07fd39-f7ee-4379-b9e8-dc309824a8d9",
   "metadata": {},
   "source": [
    "### Author Ivan Georgiev"
   ]
  },
  {
   "cell_type": "markdown",
   "id": "09809a2e-f08d-4a38-b6f2-019bb67ce9e8",
   "metadata": {},
   "source": [
    "## Abstract \n",
    "\n",
    "The 0-1 Knapsack Problem, involves selecting a subset of items with given weights and values to maximize total value without exceeding a capacity limit. This project compares two distinct approaches to solving this chalange: Dynamic Programming (DP), which guarantees an optimal solution, and Genetic Algorithms (GA), a heuristic method inspired by natural evolution. By implementing both algorithms in Python, we evaluate their performance in terms of runtime and solution quality across varying problem sizes. Experiments reveal that DP excels in smaller instances with its precision, while GA offers scalability for larger instances at the cost of optimality. These findings highlight the trade-offs between exact and approximate methods, providing insights into their practical applicability in resource allocation and beyond."
   ]
  },
  {
   "cell_type": "markdown",
   "id": "8ffaad1e-242c-4ff4-831f-e6f424fd45e3",
   "metadata": {},
   "source": [
    "## Introduction \n",
    "\n",
    "The 0/1 Knapsack Problem is a funadamental chnaglnge within the field of combinatorial optimization  "
   ]
  }
 ],
 "metadata": {
  "kernelspec": {
   "display_name": "Python (myenv)",
   "language": "python",
   "name": "myenv"
  },
  "language_info": {
   "codemirror_mode": {
    "name": "ipython",
    "version": 3
   },
   "file_extension": ".py",
   "mimetype": "text/x-python",
   "name": "python",
   "nbconvert_exporter": "python",
   "pygments_lexer": "ipython3",
   "version": "3.12.3"
  }
 },
 "nbformat": 4,
 "nbformat_minor": 5
}
