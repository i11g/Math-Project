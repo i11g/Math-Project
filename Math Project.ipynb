{
 "cells": [
  {
   "cell_type": "markdown",
   "id": "92c53bbb-848c-4b01-b83b-f15b5a1e7c46",
   "metadata": {},
   "source": [
    "# Comparative Study of Dynamic Programming and Genetic Algorithms for the Solution of 0/1 Knapsack Problem"
   ]
  },
  {
   "cell_type": "markdown",
   "id": "2b07fd39-f7ee-4379-b9e8-dc309824a8d9",
   "metadata": {},
   "source": [
    "### Author Ivan Georgiev"
   ]
  },
  {
   "cell_type": "markdown",
   "id": "09809a2e-f08d-4a38-b6f2-019bb67ce9e8",
   "metadata": {},
   "source": [
    "## Abstract \n",
    "\n",
    "The 0-1 Knapsack Problem, involves selecting a subset of items with given weights and values to maximize total value without exceeding a capacity limit. This project compares two distinct approaches to solving this challange: Dynamic Programming (DP), which guarantees an optimal solution, and Genetic Algorithms (GA), a heuristic method inspired by natural evolution. By implementing both algorithms in Python, we evaluate their performance in terms of runtime and solution quality across varying problem sizes. Experiments reveal that DP excels in smaller instances with its precision, while GA offers scalability for larger instances at the cost of optimality. These findings highlight the trade-offs between exact and approximate methods, providing insights into their practical applicability in resource allocation and beyond."
   ]
  },
  {
   "cell_type": "markdown",
   "id": "8ffaad1e-242c-4ff4-831f-e6f424fd45e3",
   "metadata": {},
   "source": [
    "## Introduction \n",
    "\n",
    "The 0/1 Knapsack Problem is a fundamental challenge within the field of combinatorial optimization. The problem is related to the following: in a given set of items, with a different weight and values, the task is to select the most valuable subset of these items that can be accommodated within a knapsack with a specific capacity. The stipulation is that each item can be either entirely excluded or included in the subset and that's what 0/1 means in the name of the challenge.   \n",
    "The problem is very important in theory and practice and can find numerous implications including efficient budget allocations in budget constraints situations, optimization solutions in transportation, logistics and cargo, and even applications in the fields of projects planning and resources distribution.    \n",
    "The well-known solution of the problem involves the Dynamic Programing(DP) algorithm. The algorithm's strengths are based in its systematic methodology related to the principles of optimal substructure and overlapping subproblems. It will always find the optimal solution but the pseudo-polynomial time complexity related to the DP algorithm $O(nW)$ (where $n$ is number of items and $W$ is the capacity) can lead to computational inefficiencies when the number of items or the knapsack capacity become too large. \n",
    "In that perspective, the challenge when the number of knapsack instances becomes very large can be tackled using another approach called Genetic Algorithms(GAs). Those algorithms present a heuristic approach of solving the problem, inspired from the mechanisms of natural evolution. The approach can often yield good to near-optimal solutions in a more efficient way, especially when dealing with large or more intricate instances. While GAs do not guarantee an optimal solution, they often achieve near-optimal results much faster than exact algorithms like DP. \n",
    "In this project, our goal is to compare DP and GA in the context of 0-1 Knapsack Problem in terms of runtime performance and solution quality using different numbers of items. Specifically, we want to observe how their runtimes scale with problem size and how close the GA’s solution value is to the optimal value found by DP. The basic of the comparison is the understanding of the inherent trade-offs between these two methodologies: DP offers optimality and a deterministic path to the solution, while GA provides flexibility and speed, particularly when the computational demands of exact methods become excessive. \n",
    "## Theoretical Background \n",
    "### 0/1 Knapsack Problem Definition \n",
    "\n",
    "Formally, we have $n$ items, each item $i$ with weight $w_i$ and value $v_i$, and a knapsack with capacity $W$. We define binary decision variables $x_i \\in {0,1}$ for each item (1 if item $i$ is taken, 0 if not). The 0-1 knapsack problem can be stated as the optimization problem:\n",
    "$$ max⁡∑i=1nvi xisubject to ∑i=1nwi xi≤W,xi∈{0,1} .\\max \\sum_{i=1}^{n} v_i\\,x_i \\\\ \\text{subject to } \\sum_{i=1}^{n} w_i\\,x_i \\le W, \\quad x_i \\in \\{0,1\\}~.$$ $$maxi=1∑n​vi​xi​subject to i=1∑n​wi​xi​≤W,xi​∈{0,1} $$\n",
    "In words, the goal is to select a subset of the items such that the total weight does not exceed $W$, and the total value is as large as possible Because each $x_i$ is restricted to 0 or 1 (we either take an item or not, with no fractional quantities), this is the 0-1 knapsack problem.\n",
    "This problem is NP-hard, and the decision version (“Can we achieve at least a value $V$ without exceeding weight $W$?”) is NP-complete.  For this reason, algorithms that always find the optimal solution (like brute force or DP) have worst-case exponential runtime or pseudo-polynomial runtime.\n",
    "###  Dynamic Programming Algorithm Overview \n",
    "\n",
    "\n",
    "###  Genetic Algorithm \n",
    "###  Previous Work Preview \n",
    "\n"
   ]
  },
  {
   "cell_type": "code",
   "execution_count": null,
   "id": "6156f454-1a33-486e-b630-617ff06cac7a",
   "metadata": {},
   "outputs": [],
   "source": []
  }
 ],
 "metadata": {
  "kernelspec": {
   "display_name": "Python (myenv)",
   "language": "python",
   "name": "myenv"
  },
  "language_info": {
   "codemirror_mode": {
    "name": "ipython",
    "version": 3
   },
   "file_extension": ".py",
   "mimetype": "text/x-python",
   "name": "python",
   "nbconvert_exporter": "python",
   "pygments_lexer": "ipython3",
   "version": "3.12.3"
  }
 },
 "nbformat": 4,
 "nbformat_minor": 5
}
